{
 "cells": [
  {
   "cell_type": "markdown",
   "id": "b7bf7972",
   "metadata": {},
   "source": [
    "# Sesión 10\n",
    "\n",
    "## Introducción a redes bayesianas"
   ]
  },
  {
   "cell_type": "markdown",
   "id": "8c1ddccc",
   "metadata": {},
   "source": [
    "> **Objetivos:**\n",
    "> - Aprender qué es una red Bayesiana y cómo se factorizan distribuciones sobre ellas."
   ]
  },
  {
   "cell_type": "markdown",
   "id": "16d8e729",
   "metadata": {},
   "source": [
    "### _¿Qué son los modelos gráficos probabilísticos?_\n",
    "\n",
    "Los MGPs son un _marco general_ para representar y razonar sobre incertidumbre en sistemas complejos.\n",
    "\n",
    "El nombre tiene tres palabras clave: **modelos**, **gráficos** y **probabilísticos**.\n",
    "\n",
    "#### Modelos\n",
    "\n",
    "* Representación declarativa de cómo entendemos el mundo.\n",
    "* Permite separar:\n",
    "    * La construcción del modelo (por humano o mediante aprendizaje automático).\n",
    "    * De los _algoritmos de inferencia_ (que responden preguntas sobre el modelo).\n",
    "    * De los _métodos de aprendizaje_ (que ajustan sus parámetros con datos).\n",
    "\n",
    "> Un \"modelo\" gráfico probabilístico describe cómo creemos que las cosas se relacionan, sin importar todavía cómo las calculamos."
   ]
  },
  {
   "cell_type": "markdown",
   "id": "a1a270a3",
   "metadata": {},
   "source": [
    "#### Probabilísticos\n",
    "\n",
    "Se llama así porque los modelos tratan con **incertidumbre**.\n",
    "\n",
    "> \"Probabilístico\" significa que el modelo admite la duda y razona con ella de forma lógica"
   ]
  },
  {
   "cell_type": "markdown",
   "id": "07be8212",
   "metadata": {},
   "source": [
    "#### Gráficos\n",
    "\n",
    "Es `gráfico` porque usamos grafos (nodos y aristas) para representar las dependencias entre variables.\n",
    "\n",
    "* Cada **nodo** representa una **variable aleatoria**.\n",
    "* Cada **arista** indica una **relación probabilística (una dependencia directa)**.\n",
    "\n",
    "Estos grafos permiten:\n",
    "\n",
    "* Representar distribuciones gigantes de forma compacta (sin enumerar todas las combinaciones posibles).\n",
    "* Razonar, usando la estructura del grafo para decidir qué variables influyen en cuáles.\n",
    "* Aprender sus parámetros con pocos datos o cinluso con ayuda de expertos humanos.\n",
    "\n",
    "> \"Gráfico\" significa que el modelo usa conexiones visuales (nodos y aristas) para representar dependencias probabilísticas entre variables."
   ]
  },
  {
   "cell_type": "markdown",
   "id": "f88d69af",
   "metadata": {},
   "source": [
    "## 1. Preliminares\n",
    "\n",
    "### 1.1. Ejemplo: Modelo de estudiante\n",
    "\n",
    "Consideramos el caso de un **estudiante dentro de un curso**.\n",
    "\n",
    "Queremos razonar acerca de las siguientes variables aleatorias:\n",
    "\n",
    "- **I** → Inteligencia del estudiante  \n",
    "- **D** → Dificultad del curso  \n",
    "- **C** → Calificación del estudiante dentro del curso  \n",
    "- **P** → Puntaje en las pruebas estatales  \n",
    "- **R** → Carta de recomendación laboral emitida por el profesor\n",
    "\n",
    "\n",
    "#### Discretización de variables\n",
    "\n",
    "**``Inteligencia (I)``**\n",
    "\n",
    "$$\n",
    "\\mathrm{Val}(I) = \\{ i^0, i^1 \\}\n",
    "$$  \n",
    "\n",
    "  - $i^0$: inteligencia **baja**  \n",
    "  - $i^1$: inteligencia **alta**\n",
    "\n",
    "\n",
    "**``Dificultad (D)``**  \n",
    "\n",
    "$$\n",
    "\\mathrm{Val}(D) = \\{ d^0, d^1 \\}\n",
    "$$  \n",
    "\n",
    "  - $d^0$: curso **fácil**  \n",
    "  - $d^1$: curso **difícil**\n",
    "\n",
    "\n",
    "**``Calificación (C)``** \n",
    "\n",
    "$$\n",
    "\\mathrm{Val}(C) = \\{ c^0, c^1, c^2 \\}\n",
    "$$  \n",
    "\n",
    "  - $c^0$: **baja** ($C < 6$)  \n",
    "  - $c^1$: **media** ($6 \\leq C < 9$)  \n",
    "  - $c^2$: **alta** ($C \\geq 9$)\n",
    "\n",
    "**``Puntaje de examen (E)``**\n",
    "\n",
    "$$\n",
    "\\mathrm{Val}(E) = \\{ e^0, e^1 \\}\n",
    "$$  \n",
    "\n",
    "  - $e^0$: **mal puntaje**  \n",
    "  - $e^1$: **buen puntaje**\n",
    "\n",
    "**``Carta de recomendación (R)``** \n",
    "\n",
    "$$\n",
    "\\mathrm{Val}(R) = \\{ r^0, r^1 \\}\n",
    "$$  \n",
    "\n",
    "  - $r^0$: carta **débil**  \n",
    "  - $r^1$: carta **fuerte**"
   ]
  },
  {
   "cell_type": "markdown",
   "id": "41bd3e8c",
   "metadata": {},
   "source": [
    "#### ❓ Pregunta\n",
    "\n",
    "De no usar **modelos gráficos probabilísticos**, _¿cuántos parámetros necesitaríamos para especificar por completo la distribución sobre las cinco variables mencionadas($I, D, C, E, R$)?_"
   ]
  },
  {
   "cell_type": "markdown",
   "id": "a5e814c8",
   "metadata": {},
   "source": [
    "<details>\n",
    "<summary>Respuesta</summary>\n",
    "\n",
    "Cada variable puede tomar un cierto número de valores:\n",
    "\n",
    "$$\n",
    "|\\mathrm{Val}(I)| = 2, \\quad\n",
    "|\\mathrm{Val}(D)| = 2, \\quad\n",
    "|\\mathrm{Val}(C)| = 3, \\quad\n",
    "|\\mathrm{Val}(P)| = 2, \\quad\n",
    "|\\mathrm{Val}(R)| = 2\n",
    "$$\n",
    "\n",
    "Por tanto, el número total de combinaciones posibles es:\n",
    "\n",
    "$$\n",
    "2 \\times 2 \\times 3 \\times 2 \\times 2 = 48\n",
    "$$\n",
    " \n",
    "> Son parámetros **independientes** aquellos cuyo valor **no está completamente determinado** por el valor de otros parámetros.\n",
    "\n",
    "En este caso, la distribución $P(I,D,C,E,R)$ se especifica con **48 parámetros**, sin embargo, si hablamos de parámetros independientes:\n",
    "\n",
    "$$\n",
    "48 - 1 = 47\n",
    "$$\n",
    "\n",
    "Si no utilizáramos modelos gráficos probabilísticos, necesitaríamos **47 parámetros independientes** para especificar completamente la distribución conjunta sobre las variables $I, D, C, |, R$.\n",
    "</details>"
   ]
  },
  {
   "cell_type": "markdown",
   "id": "72099c0c",
   "metadata": {},
   "source": [
    "#### Red Bayesiana \n",
    "\n",
    "Proponemos la siguiente estructura:\n",
    "- La **inteligencia** $I$ y la **dificultad** $D$ causan la **calificación** $C$.\n",
    "- La **inteligencia** $I$ influye en el **puntaje** $E$ de pruebas estandarizadas.\n",
    "- La **calificación** $C$ influye en la **recomendación** $R$.\n"
   ]
  },
  {
   "cell_type": "markdown",
   "id": "57097283",
   "metadata": {},
   "source": [
    "```{figure} ../images/sesion9-student-model.png\n",
    ":alt: student-model\n",
    ":fig-align: center\n",
    ":width: 700px\n",
    "```"
   ]
  },
  {
   "cell_type": "markdown",
   "id": "143f8cef",
   "metadata": {},
   "source": [
    "Al final de esta clase, entenderemos **cómo codificar la distribución de las variables** sobre esta red bayesiana y, a partir de ello, **por qué este modelo necesita muchos menos parámetros** que el modelo genérico (la **distribución conjunta completa**)."
   ]
  },
  {
   "cell_type": "markdown",
   "id": "b901e3a9",
   "metadata": {},
   "source": [
    "### 1.2. Distribuciones de probabilidad y sus operaciones"
   ]
  },
  {
   "cell_type": "markdown",
   "id": "7664141c",
   "metadata": {},
   "source": [
    "Consideremos el ejemplo del estudiante, esta vez reducido a las variables $I$, $D$ y $C$.\n",
    "\n",
    "Una distribución conjunta, $P(I,D,C)$, sobre estas tres variables es:\n",
    "\n",
    "|  $I$  |  $D$  |  $C$  |  $P$  |\n",
    "| ----- | ----- | ----- | ----- |\n",
    "| $i^0$ | $d^0$ | $c^0$ | 0.126 |\n",
    "| $i^0$ | $d^0$ | $c^1$ | 0.168 |\n",
    "| $i^0$ | $d^0$ | $c^2$ | 0.126 |\n",
    "| $i^0$ | $d^1$ | $c^0$ | 0.126 |\n",
    "| $i^0$ | $d^1$ | $c^1$ | 0.045 |\n",
    "| $i^0$ | $d^1$ | $c^2$ | 0.009 |\n",
    "| $i^1$ | $d^0$ | $c^0$ | 0.0056|\n",
    "| $i^1$ | $d^0$ | $c^1$ | 0.0224|\n",
    "| $i^1$ | $d^0$ | $c^2$ | 0.252 |\n",
    "| $i^1$ | $d^1$ | $c^0$ | 0.024 |\n",
    "| $i^1$ | $d^1$ | $c^1$ | 0.036 |\n",
    "| $i^1$ | $d^1$ | $c^2$ | 0.06  |\n",
    "\n",
    "**Pregunta.** ¿Cuántos parámetros en total?\n",
    "\n",
    "\n",
    "<details>\n",
    "<summary>Respuesta</summary>\n",
    "\n",
    "$$2 \\times 2 \\times 3 = 12$$\n",
    "\n",
    "</details>"
   ]
  },
  {
   "cell_type": "code",
   "execution_count": null,
   "id": "9ec10839",
   "metadata": {},
   "outputs": [],
   "source": [
    "from pgmpy.factors.discrete import JointProbabilityDistribution\n",
    "from pgmpy.factors.discrete import DiscreteFactor"
   ]
  },
  {
   "cell_type": "code",
   "execution_count": null,
   "id": "93b7f982",
   "metadata": {},
   "outputs": [],
   "source": [
    "JointProbabilityDistribution?"
   ]
  },
  {
   "cell_type": "code",
   "execution_count": null,
   "id": "c2c71f35",
   "metadata": {},
   "outputs": [],
   "source": [
    "p_IDC = JointProbabilityDistribution(\n",
    "    variables=['I', 'D', 'C'],\n",
    "    cardinality=[2, 2, 3],\n",
    "    values=[0.126, 0.168, 0.126, 0.126, 0.045, 0.009, 0.0056, 0.0224, 0.252, 0.024, 0.036, 0.06]\n",
    ")"
   ]
  },
  {
   "cell_type": "code",
   "execution_count": null,
   "id": "22fee2ed",
   "metadata": {},
   "outputs": [],
   "source": [
    "print(p_IDC)"
   ]
  },
  {
   "cell_type": "code",
   "execution_count": null,
   "id": "ac2a6323",
   "metadata": {},
   "outputs": [],
   "source": [
    "# Verificar que la distribución es válida\n",
    "p_IDC.values.sum()"
   ]
  },
  {
   "cell_type": "code",
   "execution_count": null,
   "id": "18276474",
   "metadata": {},
   "outputs": [],
   "source": [
    "isinstance(p_IDC, JointProbabilityDistribution), isinstance(p_IDC, DiscreteFactor)"
   ]
  },
  {
   "cell_type": "markdown",
   "id": "2a2b3d94",
   "metadata": {},
   "source": [
    "| Clase | Qué representa | Ejemplo |\n",
    "| :---- | :------------- | :------ |\n",
    "| `DiscreteFactor` | Función genérica sobre variables discretas (no necesariamente normalizada) | $\\phi(X, Y, Z)$ |\n",
    "| `JointProbabilityDistribution` | Caso especial de `DiscreteFactor` donde la función es una **probabilidad válida** (suma = 1) | $P(X, Y, Z)$ |"
   ]
  },
  {
   "cell_type": "markdown",
   "id": "5ad6e27c",
   "metadata": {},
   "source": [
    "> Toda `JointProbabilityDistribution` **es** un `DiscreteFactor`, pero no todo `DiscreteFactor` **es** una `JointProbabilityDistribution`."
   ]
  },
  {
   "cell_type": "markdown",
   "id": "85b8f092",
   "metadata": {},
   "source": [
    "#### ¿Qué operaciones podemos llevar a cabo sobre una distribucción?"
   ]
  },
  {
   "cell_type": "markdown",
   "id": "08d1d3e2",
   "metadata": {},
   "source": [
    "**1. Reducción**\n",
    "\n",
    "Supongamos que observamos que la calificación final del estudiante es alta, esto es, $C=c^2$. La operación de *reducción* consiste en eliminar todas las filas que no son consistentes con la observación:"
   ]
  },
  {
   "cell_type": "code",
   "execution_count": null,
   "id": "79892148",
   "metadata": {},
   "outputs": [],
   "source": [
    "#p_IDC.reduce?"
   ]
  },
  {
   "cell_type": "code",
   "execution_count": null,
   "id": "0bb2526a",
   "metadata": {},
   "outputs": [],
   "source": [
    "# Operación de reducción C=c2\n",
    "p_IDC_reduce_c2 = p_IDC.reduce(values=[('C', 2)], inplace=False)"
   ]
  },
  {
   "cell_type": "code",
   "execution_count": null,
   "id": "3a1c0203",
   "metadata": {},
   "outputs": [],
   "source": [
    "print(p_IDC_reduce_c2)"
   ]
  },
  {
   "cell_type": "code",
   "execution_count": null,
   "id": "fb73ab8c",
   "metadata": {},
   "outputs": [],
   "source": [
    "# Verificar si es una distribución válida\n",
    "p_IDC_reduce_c2.values.sum()"
   ]
  },
  {
   "cell_type": "markdown",
   "id": "51619029",
   "metadata": {},
   "source": [
    "Matemáticamente, esta operación equivale a considerar la distribución evaluada\n",
    "\n",
    "$$P(I, D, C=c^2) = P(I, D, c^2)$$"
   ]
  },
  {
   "cell_type": "markdown",
   "id": "b18aa065",
   "metadata": {},
   "source": [
    "**Pregunta**. ¿Es este resultado una distribución de probabilidad sobre las variables $I,D$?"
   ]
  },
  {
   "cell_type": "markdown",
   "id": "e65c03db",
   "metadata": {},
   "source": [
    "**2. Condición**\n",
    "\n",
    "A partir de la operación de **reducción**, si queremos obtener una distribución legítima sobre las variables que no reducimos, debemos dividir sobre la suma:"
   ]
  },
  {
   "cell_type": "code",
   "execution_count": null,
   "id": "67f2bf68",
   "metadata": {},
   "outputs": [],
   "source": [
    "#p_IDC.conditional_distribution?"
   ]
  },
  {
   "cell_type": "code",
   "execution_count": null,
   "id": "ac7220a4",
   "metadata": {},
   "outputs": [],
   "source": [
    "# Operación de condición sobre C=c2\n",
    "p_IDC_cond_c2 = p_IDC.conditional_distribution([('C', 2)], inplace=False)"
   ]
  },
  {
   "cell_type": "code",
   "execution_count": null,
   "id": "00cafee9",
   "metadata": {},
   "outputs": [],
   "source": [
    "print(p_IDC_cond_c2)"
   ]
  },
  {
   "cell_type": "code",
   "execution_count": null,
   "id": "066e482b",
   "metadata": {},
   "outputs": [],
   "source": [
    "# Verificar si es una distribución válida\n",
    "p_IDC_cond_c2.values.sum()"
   ]
  },
  {
   "cell_type": "markdown",
   "id": "20c3415a",
   "metadata": {},
   "source": [
    "Matemáticamente, esta operación equivale a considerar la distribución condicionada $P(I, D| C=c^2) = P(I, D| c^2)$."
   ]
  },
  {
   "cell_type": "markdown",
   "id": "2afbb150",
   "metadata": {},
   "source": [
    "**Pregunta**. ¿Es este resultado una distribución de probabilidad sobre las variables $I,D$?"
   ]
  },
  {
   "cell_type": "markdown",
   "id": "d8c3b5df",
   "metadata": {},
   "source": [
    "**3. Marginalización**\n",
    "\n",
    "Cuando tenemos una distribución de probabilidad sobre un conjunto de variables y producimos una sobre un subconjunto de las variables originales. Por ejemplo, queremos la distribución marginal sobre $I, D$:"
   ]
  },
  {
   "cell_type": "code",
   "execution_count": null,
   "id": "80ce07e9",
   "metadata": {},
   "outputs": [],
   "source": [
    "# Imprimir distribución inicial\n",
    "print(p_IDC)"
   ]
  },
  {
   "cell_type": "code",
   "execution_count": null,
   "id": "f96b4160",
   "metadata": {},
   "outputs": [],
   "source": [
    "# Marginalizar I, D\n",
    "p_IDC_marg_ID = p_IDC.marginalize(variables=['I', 'D'], inplace=False)"
   ]
  },
  {
   "cell_type": "code",
   "execution_count": null,
   "id": "1e486357",
   "metadata": {},
   "outputs": [],
   "source": [
    "print(p_IDC_marg_ID)"
   ]
  },
  {
   "cell_type": "markdown",
   "id": "87990786",
   "metadata": {},
   "source": [
    "Y si queremos la marginal sobre $I$ nada más:"
   ]
  },
  {
   "cell_type": "code",
   "execution_count": null,
   "id": "71d62e6e",
   "metadata": {},
   "outputs": [],
   "source": [
    "# Marginalizar C y D\n",
    "p_IDC_marg_CD = p_IDC.marginalize(variables=['C', 'D'], inplace=False)"
   ]
  },
  {
   "cell_type": "code",
   "execution_count": null,
   "id": "23cbb17a",
   "metadata": {},
   "outputs": [],
   "source": [
    "print(p_IDC_marg_CD)"
   ]
  },
  {
   "cell_type": "code",
   "execution_count": null,
   "id": "1ec80706",
   "metadata": {},
   "outputs": [],
   "source": [
    "# Marginalizar C y I\n",
    "p_IDC_marg_CI = p_IDC.marginalize(variables=['C', 'I'], inplace=False)"
   ]
  },
  {
   "cell_type": "code",
   "execution_count": null,
   "id": "3331db68",
   "metadata": {},
   "outputs": [],
   "source": [
    "print(p_IDC_marg_CI)"
   ]
  },
  {
   "cell_type": "markdown",
   "id": "a149db90",
   "metadata": {},
   "source": [
    "Matemáticamente, las anteriores operaciones equivalen a:\n",
    "\n",
    "$$P(I, D) = \\sum_{c\\in\\mathrm{Val}(C)} P(I, D, C=c), \\text{ y }$$\n",
    "\n",
    "$$P(I) = \\sum_{(c,d)\\in\\mathrm{Val}(C,D)} P(I, D=d, C=c).$$\n",
    "\n",
    "En abuso de la notación, para no hacer engorrosa la escritura, las anteriores sumas se expresan comúnmente como:\n",
    "\n",
    "$$P(I, D) = \\sum_{C} P(I, D, C), \\text{ y }$$\n",
    "\n",
    "$$P(I) = \\sum_{C,D} P(I, D, C).$$"
   ]
  },
  {
   "cell_type": "markdown",
   "id": "bc18d2e1",
   "metadata": {},
   "source": [
    "## 2. Fundamentos de redes bayesianas\n",
    "\n",
    "### 2.1. Modelando independencias"
   ]
  },
  {
   "cell_type": "markdown",
   "id": "5da936e2",
   "metadata": {},
   "source": [
    "_**¿Qué necesitamos hacer para para que estos nodos y aristas representen una distribución de probabilidad?**_"
   ]
  },
  {
   "cell_type": "markdown",
   "id": "6c103c8b",
   "metadata": {},
   "source": [
    "```{figure} ../images/sesion9-student-model.png\n",
    ":alt: student-model\n",
    ":fig-align: center\n",
    ":width: 700px\n",
    "```"
   ]
  },
  {
   "cell_type": "markdown",
   "id": "41007469",
   "metadata": {},
   "source": [
    "* **1. Cada nodo tiene su mini tabla de comportamiento (CPD)**\n",
    "\n",
    "Una CPD _(Conditional Probability Distribution)_ describe cómo se comporta una variable **dado** el estado de sus padres en el grafo.\n",
    "\n",
    "Por ejemplo:\n",
    "\n",
    "* $P(D)$ → solo depende de sí misma (no tiene padres).\n",
    "\n",
    "* $P(I)$ → igual, es independiente.\n",
    "\n",
    "* $P(C \\mid I,D)$ → depende de la inteligencia y la dificultad.\n",
    "\n",
    "* $P(E \\mid I)$ → depende de la inteligencia.\n",
    "\n",
    "* $P(R \\mid C)$ → depende de la calificación."
   ]
  },
  {
   "cell_type": "markdown",
   "id": "89a2a349",
   "metadata": {},
   "source": [
    "* **2. Las CPDs son los ladrillos básicos de la red**\n",
    "\n",
    "Cada nodo de la red tiene su propia CPD -es decir, su propio \"bloque de conocimiento local\"-.\n",
    "\n",
    "Si la red tiene $5$ nodos, entonces hay $5$ CPDs.\n",
    "\n",
    "Al unirlas, no tienes una lista infinita de casos posibles, sino **pequeñas piezas de información localmente coherentes**."
   ]
  },
  {
   "cell_type": "markdown",
   "id": "a0215e57",
   "metadata": {},
   "source": [
    "* **3.¿Cómo se unen todas?**\n",
    "\n",
    "Para obtener la **distribución conjunta completa**, multiplicamos todas las CPDs entre sí.\n",
    "\n",
    "Esto se llama la _regla de la cadena de las redes bayesianas_.\n",
    "\n",
    "$$\n",
    "P(I,D,C,E,R) = P(I) \\times P(D) \\times P(C \\mid I,D) \\times P(E \\mid I) \\times P(R \\mid C)\n",
    "$$\n",
    "\n",
    "💬 Intuitivamente:\n",
    "\n",
    ">Empieza con las causas base (I, D) y ve multiplicando los efectos condicionales según el grafo."
   ]
  },
  {
   "cell_type": "markdown",
   "id": "7e139725",
   "metadata": {},
   "source": [
    "* **4. ¿qué estamos haciendo realmente?**\n",
    "\n",
    "Matemáticamente, lo que hacemos al multiplicar las CPDs es un **producto de factores.**\n",
    "\n",
    "Cada CPD es un **factor** (una tabla con valores numéricos).\n",
    "\n",
    "Las CPDs *comparten variables* (por ejemplo, $C$ aparece en dos CPDs: $P(C \\mid I,D)$ y $P(R \\mid C)$), así que al multiplicarlas obtenemos un **factor grande**, cuya **alcance** _scope_ incluye **todas las variables** de la red."
   ]
  },
  {
   "cell_type": "markdown",
   "id": "0a09212a",
   "metadata": {},
   "source": [
    "* **5. ¿Por qué esto es tan poderoso?**\n",
    "\n",
    "Porque...\n",
    "- No necesitas escribir $48$ números distintos.\n",
    "- Solo defines unas pocas tablas locales.\n",
    "- La estructura del grafo ya codifica las **independencias** entre variables.\n",
    "\n",
    "Así, puedes reconstruir la distribución completa de una manera compacta y comprensible."
   ]
  },
  {
   "cell_type": "markdown",
   "id": "4e13ad92",
   "metadata": {},
   "source": [
    "| Elemento | Significado | Ejemplo |\n",
    "|-----------|--------------|----------|\n",
    "| **Nodo sin padres** | Distribución simple | $P(I)$, $P(D)$ |\n",
    "| **Nodo con padres** | CPD (condicional) | $P(C \\mid I, D)$ |\n",
    "| **Toda la red** | Producto de todas las CPDs | $P(I)P(D)P(C \\mid I,D)P(E \\mid I)P(R \\mid C)$ |\n",
    "| **Resultado final** | Distribución conjunta completa | $P(I,D,C,E,R)$ |\n"
   ]
  },
  {
   "cell_type": "markdown",
   "id": "edd4ed24",
   "metadata": {},
   "source": [
    "```{figure} ../images/sesion9-student-model-factors.png\n",
    ":alt: student-model-factors\n",
    ":fig-align: center\n",
    ":width: 800px\n",
    "```"
   ]
  },
  {
   "cell_type": "markdown",
   "id": "c1953eaa",
   "metadata": {},
   "source": [
    "<details>\n",
    "<summary>💡 Justificación formal: regla de la cadena + independencia</summary>\n",
    "\n",
    "$$\n",
    "P(I, D, C, E, R) = P(I) \\times P(D) \\times P(C \\mid I, D) \\times P(E \\mid I) \\times P(R \\mid C)\n",
    "$$\n",
    "\n",
    "Este producto no es casual: surge directamente de la **regla de la cadena de la probabilidad**, combinada con las **independencias condicionales** que nos indica la estructura del grafo.\n",
    "\n",
    "\n",
    "<details>\n",
    "<summary>🔹 1. Aplicamos la regla de la cadena</summary>\n",
    "\n",
    "\n",
    "La **regla de la cadena** nos dice que cualquier distribución conjunta se puede descomponer como el producto de probabilidades condicionales:\n",
    "\n",
    "$$\n",
    "P(D, I, C, E, R) = P(D) \\, P(I \\mid D) \\, P(C \\mid D, I) \\, P(E \\mid D, I, C) \\, P(R \\mid D, I, C, E)\n",
    "$$\n",
    "\n",
    "Esto es **una identidad matemática**, sin asumir ninguna independencia aún.\n",
    "\n",
    "</details>\n",
    "\n",
    "<details>\n",
    "<summary>🔹 2. Aplicamos las independencias locales del grafo</summary>\n",
    "\n",
    "De la estructura del grafo, sabemos que:\n",
    "\n",
    "- $D$ y $I$ **no tienen padres** → $P(D)$ y $P(I)$  \n",
    "- $C$ depende de $D$ e $I$ → $P(C \\mid D, I)$  \n",
    "- $E$ depende solo de $I$ → $P(E \\mid I)$  \n",
    "- $R$ depende solo de $C$ → $P(R \\mid C)$  \n",
    "\n",
    "Además, $D$ e $I$ son **independientes entre sí**.\n",
    "\n",
    "</details>\n",
    "\n",
    "<details>\n",
    "<summary>🔹 3. Sustituimos las dependencias en la regla de la cadena</summary>\n",
    "\n",
    "Comenzamos con la regla general:\n",
    "\n",
    "$$\n",
    "P(D, I, C, E, R) = P(D) \\, P(I \\mid D) \\, P(C \\mid D, I) \\, P(E \\mid D, I, C) \\, P(R \\mid D, I, C, E)\n",
    "$$\n",
    "\n",
    "Ahora, aplicamos las **independencias** del grafo:\n",
    "\n",
    "1. $P(I \\mid D) = P(I)$  (porque $I$ y $D$ son independientes)  \n",
    "2. $P(E \\mid D, I, C) = P(E \\mid I)$  (porque $E$ solo depende de $I$)  \n",
    "3. $P(R \\mid D, I, C, E) = P(R \\mid C)$  (porque $R$ solo depende de $C$)\n",
    "\n",
    "</details>\n",
    "\n",
    "<details>\n",
    "<summary>🔹 4. Factorización final del modelo</summary>\n",
    "\n",
    "Sustituyendo esas simplificaciones, obtenemos:\n",
    "\n",
    "$$\n",
    "P(D, I, C, E, R) = P(D) \\, P(I) \\, P(C \\mid D, I) \\, P(E \\mid I) \\, P(R \\mid C)\n",
    "$$\n",
    "\n",
    "</details>\n",
    "\n",
    "</details>"
   ]
  },
  {
   "cell_type": "markdown",
   "id": "e86d5596",
   "metadata": {},
   "source": [
    "```{admonition} 🔹 Definición forma de una red bayesiana\n",
    ":class: tip\n",
    "\n",
    "Hasta ahora hemos visto las redes bayesianas de forma intuitiva: como **grafos donde cada nodo representa una variable** y **cada flecha una relación de dependencia**. \n",
    "\n",
    "Ahora podemos formalizar esta idea.\n",
    "\n",
    "**Definición**\n",
    "\n",
    "Una **red bayesiana** es un **grafo dirigido acíclico (DAG)** $\\mathcal{G}$, donde:\n",
    "\n",
    "- Cada nodo representa una **variable aleatoria** $X_i$.\n",
    "- Cada nodo se asocia con una **distribución condicional**  \n",
    "  $P(X_i \\mid Pa_\\mathcal{G}(X_i))$, donde $Pa_\\mathcal{G}(X_i)$ son los **padres** de $X_i$ en el grafo.\n",
    "- Cada arco indica una **influencia causal o probabilística directa**.\n",
    "\n",
    "La **distribución conjunta** sobre todas las variables se obtiene multiplicando todas las distribuciones locales:\n",
    "\n",
    "$$\n",
    "P(X_1, X_2, \\dots, X_n) = \\prod_{i=1}^{n} P(X_i \\mid Pa_\\mathcal{G}(X_i))\n",
    "$$\n",
    "```"
   ]
  },
  {
   "cell_type": "markdown",
   "id": "04eccb83",
   "metadata": {},
   "source": [
    "#### De la factorización a las independencias locales\n",
    "\n",
    "Acabamos de ver que la distribución conjunta puede escribirse como un **producto de probabilidades condicionales**:\n",
    "\n",
    "$$\n",
    "P(I, D, C, E, R) = P(I) \\, P(D) \\, P(C \\mid I, D) \\, P(E \\mid I) \\, P(R \\mid C)\n",
    "$$\n",
    "\n",
    "El grafo no solo nos dice *quién depende de quién*, sino también *quién **no** depende de quién* una vez que conocemos ciertas variables.\n",
    "\n",
    "#### Independencias locales en una red bayesiana\n",
    "\n",
    "Cada nodo de una red bayesiana “vive” en su propio contexto local: solo depende de sus **padres** y es **independiente del resto del grafo** si ya conocemos el valor de esos padres.\n",
    "\n",
    "Formalmente, para cada variable $X_i$:\n",
    "\n",
    "$$\n",
    "X_i \\perp NoDescendientes_\\mathcal{G}(X_i) \\mid Pa_\\mathcal{G}(X_i)\n",
    "$$\n",
    "\n",
    "Esto se conoce como la **independencia local** de $X_i$.\n",
    "\n",
    "> Si sabemos las causas directas de algo, el resto del sistema no cambia su comportamiento.\n",
    "\n",
    "Por ejemplo, si $C$ tiene como padres a $D$ e $I$, entonces $C$ es independiente de otros nodos como $E$, una vez que conocemos $D$ e $I$."
   ]
  },
  {
   "cell_type": "markdown",
   "id": "37de8e74",
   "metadata": {},
   "source": [
    "#### Actividad\n",
    "\n",
    "1. Obtener las independencias locales que codifica la red Bayesiana del estudiante.\n",
    "\n",
    "2. Comparar el número de parámetros independientes que necesita la red Bayesiana del estudiante contra el número de parámetros que necesitaría la distribución conjunta sin ninguna suposición de independencia."
   ]
  },
  {
   "cell_type": "markdown",
   "id": "6cf0580e",
   "metadata": {},
   "source": [
    "**¿Cómo declarar una red Bayesiana en pgmpy?**"
   ]
  },
  {
   "cell_type": "code",
   "execution_count": null,
   "id": "d727801f",
   "metadata": {},
   "outputs": [],
   "source": [
    "from pgmpy.models import BayesianNetwork, DiscreteBayesianNetwork\n",
    "from pgmpy.factors.discrete import TabularCPD"
   ]
  },
  {
   "cell_type": "code",
   "execution_count": null,
   "id": "7bc63033",
   "metadata": {},
   "outputs": [],
   "source": [
    "#DiscreteBayesianNetwork?"
   ]
  },
  {
   "cell_type": "markdown",
   "id": "71804434",
   "metadata": {},
   "source": [
    "#### 1. Definimos los arcos del grafo"
   ]
  },
  {
   "cell_type": "code",
   "execution_count": null,
   "id": "dea53fef",
   "metadata": {},
   "outputs": [],
   "source": [
    "student_model = DiscreteBayesianNetwork(\n",
    "    [(\"D\", \"C\"), (\"I\", \"C\"), (\"I\", \"E\"), (\"C\", \"R\")]\n",
    ")"
   ]
  },
  {
   "cell_type": "markdown",
   "id": "ca0b1064",
   "metadata": {},
   "source": [
    "#### 2. Definimos las CPDs de cada nodo"
   ]
  },
  {
   "cell_type": "code",
   "execution_count": null,
   "id": "dfda7201",
   "metadata": {},
   "outputs": [],
   "source": [
    "# Definimos distribución condicional de D\n",
    "cpd_D = TabularCPD(\n",
    "    variable='D',\n",
    "    variable_card=2,\n",
    "    values=[\n",
    "        [0.6],\n",
    "        [0.4]\n",
    "    ]\n",
    ")\n",
    "# Definimos distribución condicional de I\n",
    "cpd_I = TabularCPD(\n",
    "    variable='I',\n",
    "    variable_card=2,\n",
    "    values=[\n",
    "        [0.7],\n",
    "        [0.3]\n",
    "    ]\n",
    ")"
   ]
  },
  {
   "cell_type": "code",
   "execution_count": null,
   "id": "1b6614fa",
   "metadata": {},
   "outputs": [],
   "source": [
    "print(cpd_D)"
   ]
  },
  {
   "cell_type": "markdown",
   "id": "fd187cf8",
   "metadata": {},
   "source": [
    "La representación de las distribuciones condicionales en `pgmpy` es un poquito distinto a como está en la tabla de arriba. En `pgmpy` las columnas representan evidencia y las filas los distintos estados de la variable en la distribución condicional:\n",
    "\n",
    "|         | $i^0 d^0$ | $i^0 d^1$ | $i^1 d^0$ | $i^1 d^1$ |\n",
    "| ------- | --------- | --------- | --------- | --------- |\n",
    "| $c^0$   | 0.3       | 0.7       | 0.02      | 0.2       |\n",
    "| $c^1$   | 0.4       | 0.25      | 0.08      | 0.3       |\n",
    "| $c^2$   | 0.3       | 0.05      | 0.9       | 0.5       |"
   ]
  },
  {
   "cell_type": "code",
   "execution_count": null,
   "id": "fbf9c69b",
   "metadata": {},
   "outputs": [],
   "source": [
    "# Definimos distribución condicional de C\n",
    "cpd_C = TabularCPD(\n",
    "    variable='C',\n",
    "    variable_card=3,\n",
    "    values=[\n",
    "        [0.30, 0.70, 0.02, 0.20],\n",
    "        [0.40, 0.25, 0.08, 0.30],\n",
    "        [0.30, 0.05, 0.90, 0.50]\n",
    "    ],\n",
    "    evidence=['I', 'D'], #<--- ojo aquí: los padres de C son I y D\n",
    "    evidence_card=[2, 2] #<--- ojo aquí: las cardinalidades de I y D son 2 y 2 respectivamente\n",
    ")\n",
    "# Definimos distribución condicional de E\n",
    "cpd_E = TabularCPD(\n",
    "    variable='E',\n",
    "    variable_card=2,\n",
    "    values=[\n",
    "        [0.95, 0.20],\n",
    "        [0.05, 0.80]\n",
    "    ],\n",
    "    evidence=['I'],\n",
    "    evidence_card=[2]\n",
    ")\n",
    "# Definimos distribución condicional de R\n",
    "cpd_R = TabularCPD(\n",
    "    variable='R',\n",
    "    variable_card=2,\n",
    "    values=[\n",
    "        [0.99, 0.40, 0.10],\n",
    "        [0.01, 0.60, 0.90]\n",
    "    ],\n",
    "    evidence=['C'],\n",
    "    evidence_card=[3]\n",
    ")"
   ]
  },
  {
   "cell_type": "code",
   "execution_count": null,
   "id": "abf262ab",
   "metadata": {},
   "outputs": [],
   "source": [
    "print(cpd_R)"
   ]
  },
  {
   "cell_type": "markdown",
   "id": "060a082b",
   "metadata": {},
   "source": [
    "#### 3. Añadimos las CPDs a la red y verificamos el modelo"
   ]
  },
  {
   "cell_type": "code",
   "execution_count": null,
   "id": "a7b8ab9f",
   "metadata": {},
   "outputs": [],
   "source": [
    "#student_model.add_cpds?"
   ]
  },
  {
   "cell_type": "code",
   "execution_count": null,
   "id": "790e1a63",
   "metadata": {},
   "outputs": [],
   "source": [
    "# Asociamos las distribuciones condicionales a la red\n",
    "student_model.add_cpds(cpd_D, cpd_I, cpd_C, cpd_E, cpd_R)"
   ]
  },
  {
   "cell_type": "markdown",
   "id": "2bbb3eac",
   "metadata": {},
   "source": [
    "#### 4. Verificar que el modelo es válido"
   ]
  },
  {
   "cell_type": "code",
   "execution_count": null,
   "id": "031ab186",
   "metadata": {},
   "outputs": [],
   "source": [
    "help(student_model.check_model)"
   ]
  },
  {
   "cell_type": "code",
   "execution_count": null,
   "id": "a1703a59",
   "metadata": {},
   "outputs": [],
   "source": [
    "student_model.check_model()"
   ]
  },
  {
   "cell_type": "markdown",
   "id": "457d8f03",
   "metadata": {},
   "source": [
    "### Independencias locales"
   ]
  },
  {
   "cell_type": "markdown",
   "id": "9555fbd5",
   "metadata": {},
   "source": [
    "Una vez tenemos el modelo, podemos hacer varias cosas con él. Entre ellas, podemos verificar las independencias locales que codifica el modelo:"
   ]
  },
  {
   "cell_type": "code",
   "execution_count": null,
   "id": "af3feae7",
   "metadata": {},
   "outputs": [],
   "source": [
    "#student_model.local_independencies?"
   ]
  },
  {
   "cell_type": "markdown",
   "id": "127786b5",
   "metadata": {},
   "source": [
    "> Cada nodo es independiente de sus no descendientes, dados sus padres."
   ]
  },
  {
   "cell_type": "markdown",
   "id": "9ba4aa37",
   "metadata": {},
   "source": [
    "| Nodo | Padres (condición) | Descendientes | No descendientes | Independencia local |\n",
    "|:------:|:------------------:|:------------------:|:----------------------:|:---------------------------:|\n",
    "| **D (Dificultad)** | — | C, R | I, E | $D \\perp \\{I, E\\}$ |\n",
    "| **I (Inteligencia)** | — | C, R, E | D | $I \\perp D$ |\n",
    "| **C (Calificación)** | D, I | R | E | $C \\perp E \\mid D, I$ |\n",
    "| **E (Prueba)** | I | — | D, C, R | $E \\perp \\{D, C, R\\} \\mid I$ |\n",
    "| **R (Carta)** | C | — | D, I, E | $R \\perp \\{D, I, E\\} \\mid C$ |\n"
   ]
  },
  {
   "cell_type": "code",
   "execution_count": null,
   "id": "deca5ddb",
   "metadata": {},
   "outputs": [],
   "source": [
    "# La variable D es independiente de I  y de E.\n",
    "student_model.local_independencies('D')"
   ]
  },
  {
   "cell_type": "code",
   "execution_count": null,
   "id": "8862e05e",
   "metadata": {},
   "outputs": [],
   "source": [
    "student_model.local_independencies('C')"
   ]
  },
  {
   "cell_type": "code",
   "execution_count": null,
   "id": "c655514c",
   "metadata": {},
   "outputs": [],
   "source": [
    "student_model.local_independencies([\"D\", \"I\", \"C\", \"E\", \"R\"])"
   ]
  },
  {
   "cell_type": "markdown",
   "id": "a94c8529",
   "metadata": {},
   "source": [
    "## 2.2. Patrones de razonamiento e inferencia\n",
    "\n",
    "Teniendo una situación modelada con una red Bayesiana, nos podemos plantear **tres** tipos básicos de razonamiento de podríamos querer resolver:\n",
    "\n",
    "* Razonamiento causal\n",
    "* Razonamiento evidencial\n",
    "* Razonamiento intercausal"
   ]
  },
  {
   "cell_type": "markdown",
   "id": "192f8ba2",
   "metadata": {},
   "source": [
    "**1. Razonamiento causal**\n",
    "\n",
    "El **razonamiento causal** sigue la dirección natural de las flechas del grafo: va de **causa → efecto**, o de **nodo padre → nodo hijo**.\n",
    "\n",
    "> Si sé algo sobre las causas, ¿qué puedo inferir sobre sus efectos?"
   ]
  },
  {
   "cell_type": "markdown",
   "id": "29d3dcb1",
   "metadata": {},
   "source": [
    "![causal-reasoning](../images/sesion10-student-model-causal.png)"
   ]
  },
  {
   "cell_type": "markdown",
   "id": "4f743ec0",
   "metadata": {},
   "source": [
    "Por ejemplo, \n",
    "\n",
    "**Pregunta**: ¿cuál es la probabilidad de obtener una buena carta de recomendación?\n",
    "\n",
    "$$P(r^1) = \\sum_{D,I,C,E} P(D,I,C,E,r^1) \\approx ?$$"
   ]
  },
  {
   "cell_type": "code",
   "execution_count": null,
   "id": "4c51110b",
   "metadata": {},
   "outputs": [],
   "source": [
    "# Obtenemos la distribución conjunta de la red\n",
    "p_joint = (\n",
    "    cpd_I.to_factor()\n",
    "    * cpd_D.to_factor()\n",
    "    * cpd_C.to_factor()\n",
    "    * cpd_E.to_factor()\n",
    "    * cpd_R.to_factor()\n",
    ")"
   ]
  },
  {
   "cell_type": "code",
   "execution_count": null,
   "id": "7aa7c8c7",
   "metadata": {},
   "outputs": [],
   "source": [
    "print(p_joint)"
   ]
  },
  {
   "cell_type": "code",
   "execution_count": null,
   "id": "74e7a1ba",
   "metadata": {},
   "outputs": [],
   "source": [
    "# Marginalizar sobre las variables I, D, C, E\n",
    "p_R = p_joint.marginalize(variables=['I', 'D', 'C', 'E'], inplace=False)\n",
    "print(p_R)"
   ]
  },
  {
   "cell_type": "code",
   "execution_count": null,
   "id": "d1cfaf69",
   "metadata": {},
   "outputs": [],
   "source": [
    "p_r1 = p_R.reduce(values=[('R', 1)], inplace=False)\n",
    "print(p_r1)"
   ]
  },
  {
   "cell_type": "markdown",
   "id": "6c6e9059",
   "metadata": {},
   "source": [
    "Sin embargo, podemos evaluar cómo esta probabilidad cambia si la condicionamos sobre la inteligencia. Por ejemplo, si el estudiante no es muy inteligente\n",
    "\n",
    "$$P(r^1 | i^0) = \\frac{P(r^1, i^0)}{P(i^0)} = \\frac{\\sum_{D,C,E} P(D, i^0, C, E, r^1)}{\\sum_{D,C,E,R} P(D, i^0, C, E, R)} \\approx ?$$"
   ]
  },
  {
   "cell_type": "code",
   "execution_count": null,
   "id": "775e90ea",
   "metadata": {},
   "outputs": [],
   "source": [
    "p_RI = p_joint.marginalize(variables=['D', 'C', 'E'], inplace=False)\n",
    "print(p_RI)"
   ]
  },
  {
   "cell_type": "code",
   "execution_count": null,
   "id": "1b8373a3",
   "metadata": {},
   "outputs": [],
   "source": [
    "i_0 = p_RI.get_value(R=1, I=0)\n",
    "i_0"
   ]
  },
  {
   "cell_type": "code",
   "execution_count": null,
   "id": "ee0a7196",
   "metadata": {},
   "outputs": [],
   "source": [
    "p_I = p_joint.marginalize(variables=['D', 'C', 'E', 'R'], inplace=False)\n",
    "print(p_I)"
   ]
  },
  {
   "cell_type": "code",
   "execution_count": null,
   "id": "0e99b0d2",
   "metadata": {},
   "outputs": [],
   "source": [
    "r1_i0 = p_I.get_value(I=0)\n",
    "r1_i0"
   ]
  },
  {
   "cell_type": "markdown",
   "id": "c3a442b2",
   "metadata": {},
   "source": [
    "**¿se esperaba esto o no?**"
   ]
  },
  {
   "cell_type": "code",
   "execution_count": null,
   "id": "7dd5892e",
   "metadata": {},
   "outputs": [],
   "source": [
    "print('probabilidad de r1 dado i0:', i_0 / r1_i0)"
   ]
  },
  {
   "cell_type": "markdown",
   "id": "3bdc70be",
   "metadata": {},
   "source": [
    "Por otra parte, si también condicionamos sobre la dificultad\n",
    "\n",
    "$$P(r^1 | i^0, d^0) = \\frac{P(r^1, i^0, d^0)}{P(i^0, d^0)} = \\frac{\\sum_{C,P} P(d^0, i^0, C, E, r^1)}{\\sum_{C,P,R} P(d^0, i^0, C, E, R)} \\approx ?$$"
   ]
  },
  {
   "cell_type": "code",
   "execution_count": null,
   "id": "bc3afaad",
   "metadata": {},
   "outputs": [],
   "source": [
    "p_RID = p_joint.marginalize(variables=['C', 'E'], inplace=False)\n",
    "r1_i0_d0 = p_RID.get_value(R=1, I=0, D=0)\n",
    "r1_i0_d0"
   ]
  },
  {
   "cell_type": "code",
   "execution_count": null,
   "id": "fb8dca6b",
   "metadata": {},
   "outputs": [],
   "source": [
    "p_ID = p_joint.marginalize(variables=['C', 'E', 'R'], inplace=False)\n",
    "i0_d0 = p_ID.get_value(I=0, D=0)\n",
    "i0_d0"
   ]
  },
  {
   "cell_type": "markdown",
   "id": "dff4adcd",
   "metadata": {},
   "source": [
    "**¿Se esperaba esto o no?**"
   ]
  },
  {
   "cell_type": "code",
   "execution_count": null,
   "id": "66a5cbf6",
   "metadata": {},
   "outputs": [],
   "source": [
    "print('probabilidad de r1 dado i0 y d0:', r1_i0_d0 / i0_d0)"
   ]
  },
  {
   "cell_type": "markdown",
   "id": "7aa04b8d",
   "metadata": {},
   "source": [
    "---"
   ]
  },
  {
   "cell_type": "markdown",
   "id": "db695606",
   "metadata": {},
   "source": [
    "**2. Razonamiento evidencial**\n",
    "\n",
    "Va **de efecto a causa**, en sentido contrario a las flechas.\n",
    "\n",
    "> Si observo un efecto, ¿qué puedo inferir sobre sus causas?"
   ]
  },
  {
   "cell_type": "markdown",
   "id": "20bc9001",
   "metadata": {},
   "source": [
    "![causal-reasoning](../images/sesion10-student-model-evid.png)"
   ]
  },
  {
   "cell_type": "markdown",
   "id": "a7024d5c",
   "metadata": {},
   "source": [
    "Por ejemplo, la probabilidad de que el curso sea difícil es:\n",
    "\n",
    "$$P(d^1) = 0.4$$\n",
    "\n",
    "Condicionando sobre la calificación:\n",
    "\n",
    "$$P(d^1 | c^0) = \\frac{P(d^1, c^0)}{P(c^0)} = \\frac{\\sum_{I,E,R} P(d^1, I, c^0, E, R)}{\\sum_{D,I,E,R} P(D, I, c^0, E, R)} \\approx?$$"
   ]
  },
  {
   "cell_type": "code",
   "execution_count": null,
   "id": "33b6c925",
   "metadata": {},
   "outputs": [],
   "source": [
    "p_DC = p_joint.marginalize(\n",
    "    variables=['I', 'E', 'R'],\n",
    "    inplace=False)\n",
    "p_i1_c0 = p_DC.get_value(D=1, C=0)\n",
    "p_i1_c0"
   ]
  },
  {
   "cell_type": "code",
   "execution_count": null,
   "id": "9fcdd8e9",
   "metadata": {},
   "outputs": [],
   "source": [
    "p_C = p_joint.marginalize(\n",
    "    variables=['D', 'I', 'E', 'R'],\n",
    "    inplace=False\n",
    ")\n",
    "p_c0 = p_C.get_value(C=0)\n",
    "p_c0"
   ]
  },
  {
   "cell_type": "code",
   "execution_count": null,
   "id": "13737931",
   "metadata": {},
   "outputs": [],
   "source": [
    "pi1_c0 = p_i1_c0 / p_c0\n",
    "pi1_c0"
   ]
  },
  {
   "cell_type": "code",
   "execution_count": null,
   "id": "8bd4da7d",
   "metadata": {},
   "outputs": [],
   "source": [
    "#Otra forma de calcular P(D1 | C0) usando inferencia en la red bayesiana    \n",
    "from pgmpy.inference import VariableElimination\n",
    "infer = VariableElimination(student_model)\n",
    "phi = infer.query(\n",
    "    variables=['D'],\n",
    "    evidence={'C': 0})\n",
    "phi.values[1]"
   ]
  },
  {
   "cell_type": "markdown",
   "id": "88739d5f",
   "metadata": {},
   "source": [
    "> Intuición: observar una calificación baja hace más probable que el curso haya sido difícil (sube de $0.4$ a $\\approx 0.63$)."
   ]
  },
  {
   "cell_type": "markdown",
   "id": "6d8370f6",
   "metadata": {},
   "source": [
    "---"
   ]
  },
  {
   "cell_type": "markdown",
   "id": "c8f88a52",
   "metadata": {},
   "source": [
    "Similarmente, la probabilidad de que el estudiante sea inteligente es:\n",
    "\n",
    "$$P(i^1) = 0.3$$\n",
    "\n",
    "Condicionando sobre la calificación:\n",
    "\n",
    "$$P(i^1 | c^0) = \\frac{P(i^1, c^0)}{P(c^0)} = \\frac{\\sum_{D,E,R} P(D, i^1, c^0, E, R)}{\\sum_{D,I,E,R} P(D, I, c^0, E, R)} \\approx ?$$"
   ]
  },
  {
   "cell_type": "code",
   "execution_count": null,
   "id": "bde91551",
   "metadata": {},
   "outputs": [],
   "source": [
    "p_IC = p_joint.marginalize(\n",
    "    variables=['D', 'E', 'R'],\n",
    "    inplace=False)\n",
    "p_i1_c0 = p_IC.get_value(I=1, C=0)\n",
    "\n",
    "p_C = p_joint.marginalize(\n",
    "    variables=['D', 'I', 'E', 'R'],\n",
    "    inplace=False\n",
    ")\n",
    "p_c0 = p_C.get_value(C=0)"
   ]
  },
  {
   "cell_type": "code",
   "execution_count": null,
   "id": "c22e349e",
   "metadata": {},
   "outputs": [],
   "source": [
    "p_i1_given_c0 = p_i1_c0 / p_c0\n",
    "p_i1_given_c0"
   ]
  },
  {
   "cell_type": "code",
   "execution_count": null,
   "id": "40f447af",
   "metadata": {},
   "outputs": [],
   "source": [
    "infer = VariableElimination(student_model)\n",
    "phi = infer.query(\n",
    "    variables=['I'],\n",
    "    evidence={'C': 0})\n",
    "phi.values[1]"
   ]
  },
  {
   "cell_type": "markdown",
   "id": "94b2ee01",
   "metadata": {},
   "source": [
    "> Intuición: observar una calificación baja hace menos probable que el estudiante sea inteligente (baja del $0.3$ a $\\approx 0.11$)."
   ]
  },
  {
   "cell_type": "markdown",
   "id": "6248c419",
   "metadata": {},
   "source": [
    "**3. Razonamiento intercausal**\n",
    "\n",
    "Ocurre cuando **dos causas comparten un mismo efecto** y una de ellas se observa.\n",
    "\n",
    "> Si conozco una causa, ¿cómo cambia mi creencia sobre la otra, dado que comparten el mismo efecto?\n"
   ]
  },
  {
   "cell_type": "markdown",
   "id": "b00b079f",
   "metadata": {},
   "source": [
    "![intercausal-reasoning](../images/sesion10-student-model-inter.png )"
   ]
  },
  {
   "cell_type": "markdown",
   "id": "b5b595c4",
   "metadata": {},
   "source": [
    "$\\text{Dificultad} \\longrightarrow \\text{Calificación} \\longleftarrow \\text{Inteligencia}$"
   ]
  },
  {
   "cell_type": "markdown",
   "id": "7c6d339e",
   "metadata": {},
   "source": [
    "Normalmente, $D$ e $I$ son independientes. Pero, una vez que conocemos el efecto común -por ejemplo, la calificación $C$-, dejan de serlo.\n",
    "\n",
    "> Si sabemos que la calificación fue alta y que el curso era difícil, es más probable que el estudiante haya sido inteligente.\n",
    "\n",
    "Antes de observar $C$:\n",
    "\n",
    "$$ D \\perp I $$\n",
    "\n",
    "Después de observar $C$:\n",
    "$$ D \\not\\perp I \\mid C $$"
   ]
  },
  {
   "cell_type": "markdown",
   "id": "3f6cae47",
   "metadata": {},
   "source": [
    "De nuevo, la probabilidad de que el estudiante sea inteligente es:\n",
    "\n",
    "$$P(i^1) = 0.3$$\n",
    "\n",
    "Condicionando sobre la calificación:\n",
    "\n",
    "$$P(i^1 | c^0) = \\frac{P(i^1, c^0)}{P(c^0)} \\approx 0.07$$\n",
    "\n",
    "Aún más, si condicionamos sobre la dificultad:\n",
    "\n",
    "$$P(i^1 | c^0, d^1) = \\frac{P(i^1, c^0, d^1)}{P(c^0, d^1)} \\approx ?$$"
   ]
  },
  {
   "cell_type": "code",
   "execution_count": null,
   "id": "2f36dd7d",
   "metadata": {},
   "outputs": [],
   "source": [
    "infer = VariableElimination(student_model)\n",
    "phi = infer.query(\n",
    "    variables=['I'],\n",
    "    evidence={'C': 0, 'D': 1})\n",
    "phi.values[1]"
   ]
  },
  {
   "cell_type": "markdown",
   "id": "3bec2de6",
   "metadata": {},
   "source": [
    "> Inicialmente, el estudiante tiene una probabilidad moderada de ser inteligente ($P(i^1)=0.3$). Al observar que obtuvo una **mala calificación**, esa creencia **disminuye drásticamente** ($P(i^1 \\mid c^0) \\approx 0.07$). Sin embargo, si además sabemos que el curso era **difícil**, parte de la mala nota se explica por la dificultad, por lo que la probabilidad de que sea inteligente **vuelve a subir ligeramente** $P(i^1 \\mid c^0, d^1) \\approx 0.11$."
   ]
  }
 ],
 "metadata": {
  "kernelspec": {
   "display_name": "mgp",
   "language": "python",
   "name": "python3"
  },
  "language_info": {
   "codemirror_mode": {
    "name": "ipython",
    "version": 3
   },
   "file_extension": ".py",
   "mimetype": "text/x-python",
   "name": "python",
   "nbconvert_exporter": "python",
   "pygments_lexer": "ipython3",
   "version": "3.13.2"
  }
 },
 "nbformat": 4,
 "nbformat_minor": 5
}
