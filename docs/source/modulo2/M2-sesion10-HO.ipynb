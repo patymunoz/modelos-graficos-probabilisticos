{
 "cells": [
  {
   "cell_type": "markdown",
   "id": "7308e88c",
   "metadata": {},
   "source": [
    "# Sesión 10-HO\n",
    "\n",
    "## Hands-on:"
   ]
  },
  {
   "cell_type": "markdown",
   "id": "1326ec22",
   "metadata": {},
   "source": [
    "Un caso clásico para aplicar redes bayesianas es el modelo de la alarma antirrobo.\n",
    "\n",
    "Imaginemos que hemos instalado una alarma en casa que se activa mediante un **sensor de movimiento**.\n",
    "\n",
    "Si **un ladrón entra** ($L$), el sensor detecta el movimiento y **la alarma suena** ($A$), enviándonos una notificación.\n",
    "\n",
    "Sin embargo, la alarma **no siempre se activa por un robo real**: también puede hacerlo por otras causas, como un **terremoto** ($T$), que provoca vibraciones que confunden al sensor y generan una **falsa alarma**.\n",
    "\n",
    "Además, dependiendo de la magnitud del terremoto, es posible que **se emitan reportes** en la radio o en medios oficiales ($R$).  \n",
    "\n",
    "Aunque la mayoría de los sismos son registrados por los institutos sísmicos, **solo los de mayor magnitud suelen difundirse públicamente**.\n",
    "\n",
    "En resumen, nuestro modelo considera las siguientes variables:\n",
    "- $L$: ocurre un robo (ladrón entra a la casa)  \n",
    "- $T$: ocurre un terremoto  \n",
    "- $A$: suena la alarma  \n",
    "- $R$: se reporta el terremoto en la radio  \n",
    "\n",
    "Estas relaciones pueden representarse mediante el siguiente **modelo gráfico**:"
   ]
  },
  {
   "cell_type": "markdown",
   "id": "339f737c",
   "metadata": {},
   "source": [
    "![Red bayesiana alarma antirrobo](../images/sesion10-alarm.png)"
   ]
  },
  {
   "cell_type": "markdown",
   "id": "08add9ae",
   "metadata": {},
   "source": [
    "### 1. Definir la distribución conjunta\n",
    "\n",
    "¿Cómo sería la distribución conjunta sobre las variables $L$, $T$, $A$ y $R$?\n",
    "\n",
    "$$P(L, T, A, R) = ?$$"
   ]
  },
  {
   "cell_type": "markdown",
   "id": "931e78e4",
   "metadata": {},
   "source": [
    "Tenemos entonces la siguiente información:\n",
    "\n",
    "- $P(L=1) = 0.001$ (una casa de cada mil es robada)\n",
    "- $P(T=1) = 0.01$ (un terremoto cada 100 días)\n",
    "\n",
    "Las probabilidades de que la alarma se active (dadas por el proveedor de alarmas) son:\n",
    "\n",
    "| $L$ | $T$ | $P(A=1 \\| L, T)$ |\n",
    "| --- | --- | ---------------- |\n",
    "| $0$ | $0$ | $0$              |\n",
    "| $0$ | $1$ | $0.1$            |\n",
    "| $1$ | $0$ | $1$              |\n",
    "| $1$ | $1$ | $1$              |\n",
    "\n",
    "Las probabilidades de que un terremoto se reporte en la radio es:\n",
    "\n",
    "| $T$ | $P(R=1 \\| T)$   |\n",
    "| --- | --------------- |\n",
    "| $0$ | $0$             |\n",
    "| $1$ | $0.5$           |"
   ]
  },
  {
   "cell_type": "markdown",
   "id": "eef4d98e",
   "metadata": {},
   "source": [
    "Supongamos que nos llega entonces una notificación de la alarma a nuestro celular. Queremos saber si en efecto la alarma se debe a un ladrón, o no. Esto es, queremos averiguar\n",
    "\n",
    "$$\n",
    "P(L=1|A=1)=?\n",
    "$$"
   ]
  },
  {
   "cell_type": "markdown",
   "id": "af019fa1",
   "metadata": {},
   "source": [
    "### 2. Generar el modelo, primero establecer dependencias"
   ]
  },
  {
   "cell_type": "code",
   "execution_count": null,
   "id": "9ad790f7",
   "metadata": {},
   "outputs": [],
   "source": [
    "from pgmpy.factors.discrete import JointProbabilityDistribution\n",
    "from pgmpy.models import DiscreteBayesianNetwork\n",
    "from pgmpy.factors.discrete import TabularCPD"
   ]
  },
  {
   "cell_type": "code",
   "execution_count": null,
   "id": "ead5c342",
   "metadata": {},
   "outputs": [],
   "source": [
    "#alarm_model\n"
   ]
  },
  {
   "cell_type": "markdown",
   "id": "5bd94107",
   "metadata": {},
   "source": [
    "### 3. Definir las CPDs"
   ]
  },
  {
   "cell_type": "code",
   "execution_count": null,
   "id": "1879006e",
   "metadata": {},
   "outputs": [],
   "source": []
  },
  {
   "cell_type": "markdown",
   "id": "7727751f",
   "metadata": {},
   "source": [
    "### 4. Agregar las CPDs al modelo"
   ]
  },
  {
   "cell_type": "code",
   "execution_count": null,
   "id": "5b99c993",
   "metadata": {},
   "outputs": [],
   "source": []
  },
  {
   "cell_type": "markdown",
   "id": "93473410",
   "metadata": {},
   "source": [
    "### 5. Checar que el modelo es válido"
   ]
  },
  {
   "cell_type": "code",
   "execution_count": null,
   "id": "01988294",
   "metadata": {},
   "outputs": [],
   "source": []
  },
  {
   "cell_type": "markdown",
   "id": "6160c1d1",
   "metadata": {},
   "source": [
    "### 6. Generar p_joint (prob conjunta)"
   ]
  },
  {
   "cell_type": "code",
   "execution_count": null,
   "id": "085f6831",
   "metadata": {},
   "outputs": [],
   "source": []
  },
  {
   "cell_type": "markdown",
   "id": "767f22c8",
   "metadata": {},
   "source": [
    "### Tipo de inferencia"
   ]
  },
  {
   "cell_type": "markdown",
   "id": "036a8416",
   "metadata": {},
   "source": [
    "$$\n",
    "P(L=1|A=1)= \\frac{\\sum_{T,R} P(L=1, T, A=1, R)}{\\sum_{L,T,R} P(L, T, A=1, R)}\n",
    "$$"
   ]
  },
  {
   "cell_type": "code",
   "execution_count": null,
   "id": "0cdec081",
   "metadata": {},
   "outputs": [],
   "source": []
  },
  {
   "cell_type": "code",
   "execution_count": null,
   "id": "ad041fd9",
   "metadata": {},
   "outputs": [],
   "source": []
  },
  {
   "cell_type": "code",
   "execution_count": null,
   "id": "a3763f41",
   "metadata": {},
   "outputs": [],
   "source": []
  },
  {
   "cell_type": "markdown",
   "id": "74d327ff",
   "metadata": {},
   "source": [
    "> _¿qué tipo de inferencia es esta?_"
   ]
  },
  {
   "cell_type": "markdown",
   "id": "f542dcc4",
   "metadata": {},
   "source": [
    "De modo que te subes al coche y te diriges camino a tu casa, pero al encender la radio escuchas que hubo un terremoto. Ahora, lo que queremos averiguar es:\n",
    "\n",
    "$$\n",
    "P(L=1|A=1, R=1)=?\n",
    "$$"
   ]
  },
  {
   "cell_type": "markdown",
   "id": "373ea146",
   "metadata": {},
   "source": [
    ">_Genera el plantenamiento de la probabilidad_"
   ]
  },
  {
   "cell_type": "code",
   "execution_count": null,
   "id": "b22c532b",
   "metadata": {},
   "outputs": [],
   "source": []
  },
  {
   "cell_type": "code",
   "execution_count": null,
   "id": "6626a4b9",
   "metadata": {},
   "outputs": [],
   "source": []
  },
  {
   "cell_type": "code",
   "execution_count": null,
   "id": "9595eba7",
   "metadata": {},
   "outputs": [],
   "source": []
  }
 ],
 "metadata": {
  "kernelspec": {
   "display_name": "mgp",
   "language": "python",
   "name": "python3"
  },
  "language_info": {
   "codemirror_mode": {
    "name": "ipython",
    "version": 3
   },
   "file_extension": ".py",
   "mimetype": "text/x-python",
   "name": "python",
   "nbconvert_exporter": "python",
   "pygments_lexer": "ipython3",
   "version": "3.13.2"
  }
 },
 "nbformat": 4,
 "nbformat_minor": 5
}
